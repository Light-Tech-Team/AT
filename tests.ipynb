{
 "cells": [
  {
   "cell_type": "code",
   "execution_count": 47,
   "outputs": [],
   "source": [
    "client_test_data = [\n",
    "    {   'idc': 1,\n",
    "        'name': 'John',\n",
    "        'prename': 'Doe',\n",
    "        'birthday': '1990-01-01',\n",
    "        'idcard': '1',\n",
    "        'releasecrd': '2010-01-01',\n",
    "        'Phone': '00001',\n",
    "        'email': 'john.doe@example.com',\n",
    "        'idp': 1,\n",
    "        'idcv': 1\n",
    "    },\n",
    "    {   'idc': 2,\n",
    "        'name': 'Jane',\n",
    "        'prename': 'Doe',\n",
    "        'birthday': '1991-01-01',\n",
    "        'idcard': '2',\n",
    "        'releasecrd': '2010-01-01',\n",
    "        'Phone': '00002',\n",
    "        'email': 'jane.Doe@example.com',\n",
    "        'idp': 1,\n",
    "        'idcv': 2\n",
    "    },{\n",
    "        'idc': 3,\n",
    "        'name': 'zakzok',\n",
    "        'prename': 'Doe',\n",
    "        'birthday': '1993-01-01',\n",
    "        'idcard': 'ty',\n",
    "        'releasecrd': '2012-01-01',\n",
    "        'Phone': '00003',\n",
    "        'email': 'zakzok@example.com',\n",
    "        'idp': 2,\n",
    "        'idcv': 3\n",
    "\n",
    "    }\n",
    "]\n",
    "convention_test_data = [\n",
    "    {   'idcv': 1,\n",
    "        'namecv': 'Convention 1',\n",
    "        'remise': 1,\n",
    "    },\n",
    "    {   'idcv': 2,\n",
    "        'namecv': 'Convention 2',\n",
    "        'remise': 2,\n",
    "    },{\n",
    "        'idcv': 5,\n",
    "        'namecv': 'Convention 5',\n",
    "        'remise': 5,\n",
    "\n",
    "    }\n",
    "]\n",
    "transform_test_data = [\n",
    "    {   'idt': 1,\n",
    "        'street1': 'street 1',\n",
    "        'street2': 'street 2',\n",
    "        'date': '2010-01-01',\n",
    "        'idl': 1,\n",
    "    },\n",
    "    {   'idt': 2,\n",
    "        'street1': 'street 2',\n",
    "        'street2': 'street 3',\n",
    "        'date': '2010-01-01',\n",
    "        'idl': 2,\n",
    "\n",
    "    },\n",
    "    {   'idt': 3,\n",
    "        'street1': 'street 3',\n",
    "        'street2': 'street 4',\n",
    "        'date': '2010-01-01',\n",
    "        'idl': 3,\n",
    "    },]\n",
    "\n",
    "cession_test_data = [\n",
    "    {   'idcs': 1,\n",
    "        'date': '2010-01-01',\n",
    "        'idl': 1,\n",
    "        'ces': 1,\n",
    "    },\n",
    "    {   'idcs': 2,\n",
    "        'date': '2010-01-01',\n",
    "        'idl': 1,\n",
    "        'ces': 2,\n",
    "    },\n",
    "    {   'idcs': 3,\n",
    "        'date': '2010-01-01',\n",
    "        'idl': 2,\n",
    "        'ces': 3,\n",
    "    },]\n",
    "line_test_data = [\n",
    "    {   'idl': 1,\n",
    "        'numberl': '1',\n",
    "        'street': 'street 1',\n",
    "        'date': '2010-01-01',\n",
    "        'idc': 1,\n",
    "        'serv': 1,\n",
    "    },\n",
    "    {   'idl': 2,\n",
    "        'numberl': '2',\n",
    "        'street': 'street 2',\n",
    "        'date': '2010-01-01',\n",
    "        'idc': 2,\n",
    "        'serv': 2,\n",
    "    },{\n",
    "    'idl': 3,\n",
    "    'numberl': '3',\n",
    "    'street': 'street 3',\n",
    "    'date': '2010-01-01',\n",
    "    'idc': 3,\n",
    "    'serv': 3,\n",
    "}]\n",
    "\n",
    "legit_mock_data = [{'id': 4,\n",
    "  'date': '2040-01-01',\n",
    "  'namepr': 'promo',\n",
    "  'typepr': 'teepee',\n",
    "  'namecv': 'Convocation',\n",
    "  'numberl': '2',\n",
    "  'street': 'street fighter',\n",
    "}]\n",
    "history_test_data = [\n",
    "    {   'id': 1,\n",
    "        'idc': 1,\n",
    "        'idl': 1,\n",
    "        'date': '2010-01-01',\n",
    "        'idp': 1,\n",
    "        'idcv': 1,\n",
    "        'idtr': 1,\n",
    "        'idcs': 1,\n",
    "    },\n",
    "    {   'id': 2,\n",
    "        'idc': 2,\n",
    "        'idl': 2,\n",
    "        'date': '2010-01-01',\n",
    "        'idp': 2,\n",
    "        'idcv': 2,\n",
    "        'idtr': 2,\n",
    "        'idcs': 2,\n",
    "    },\n",
    "    {   'id': 3,\n",
    "        'idc': 3,\n",
    "        'idl': 3,\n",
    "        'date': '2010-01-01',\n",
    "        'idp': 3,\n",
    "        'idcv': 3,\n",
    "        'idtr': 3,\n",
    "        'idcs': 3,\n",
    "    },{\n",
    "        'id': 4,\n",
    "        'idc': 1,\n",
    "        'idl': 2,\n",
    "        'date': '2040-01-01',\n",
    "        'idp': 1,\n",
    "        'idcv': 2,\n",
    "        'idtr': 1,\n",
    "        'idcs': 2,\n",
    "    }]\n",
    "\n",
    "promotion_test_data = [\n",
    "    {   'idp': 1,\n",
    "        'namepr': 'Promotion 1',\n",
    "        'typepr': 'type 1',\n",
    "        'mountpr': 'mount 1',\n",
    "    },\n",
    "    {   'idp': 2,\n",
    "        'namepr': 'Promotion 2',\n",
    "        'typepr': 'type 2',\n",
    "        'mountpr': 'mount 2',\n",
    "    },\n",
    "    {   'idp': 3,\n",
    "        'namepr': 'Promotion 3',\n",
    "        'typepr': 'type 3',\n",
    "        'mountpr': 'mount 3',\n",
    "        }\n",
    "]"
   ],
   "metadata": {
    "collapsed": false
   }
  },
  {
   "cell_type": "code",
   "execution_count": 5,
   "outputs": [],
   "source": [
    "import requests\n",
    "import json\n",
    "URL = 'http://127.0.0.1:5000/'\n",
    "\n"
   ],
   "metadata": {
    "collapsed": false
   }
  },
  {
   "cell_type": "code",
   "execution_count": 6,
   "outputs": [
    {
     "data": {
      "text/plain": "'Dia'"
     },
     "execution_count": 6,
     "metadata": {},
     "output_type": "execute_result"
    }
   ],
   "source": [
    "response = requests.get(URL)\n",
    "response.text"
   ],
   "metadata": {
    "collapsed": false
   }
  },
  {
   "cell_type": "code",
   "execution_count": 143,
   "outputs": [
    {
     "data": {
      "text/plain": "{'idc': 0,\n 'name': None,\n 'prename': None,\n 'birthday': None,\n 'idcard': None,\n 'releasecrd': None,\n 'Phone': None,\n 'email': None}"
     },
     "execution_count": 143,
     "metadata": {},
     "output_type": "execute_result"
    }
   ],
   "source": [
    "response = requests.post(URL + 'client', json=client_test_data[2])\n",
    "response.json()"
   ],
   "metadata": {
    "collapsed": false
   }
  },
  {
   "cell_type": "code",
   "execution_count": 168,
   "outputs": [
    {
     "data": {
      "text/plain": "'{\\n    \"idc\": 1,\\n    \"name\": \"John\",\\n    \"prename\": \"Doe\",\\n    \"birthday\": \"1990-01-01\",\\n    \"idcard\": \"1\",\\n    \"releasecrd\": \"2010-01-01\",\\n    \"Phone\": \"00001\",\\n    \"email\": \"john.doe@example.com\"\\n}\\n'"
     },
     "execution_count": 168,
     "metadata": {},
     "output_type": "execute_result"
    }
   ],
   "source": [
    "response = requests.get(URL + 'client', json= {'idc':1})\n",
    "response.text"
   ],
   "metadata": {
    "collapsed": false
   }
  },
  {
   "cell_type": "code",
   "execution_count": 172,
   "outputs": [
    {
     "data": {
      "text/plain": "'{\\n    \"idc\": 0,\\n    \"name\": null,\\n    \"prename\": null,\\n    \"birthday\": null,\\n    \"idcard\": null,\\n    \"releasecrd\": null,\\n    \"Phone\": null,\\n    \"email\": null\\n}\\n'"
     },
     "execution_count": 172,
     "metadata": {},
     "output_type": "execute_result"
    }
   ],
   "source": [
    "response = requests.put(URL + 'client', json={'idc':1,'name':'not john'})\n",
    "response.text"
   ],
   "metadata": {
    "collapsed": false
   }
  },
  {
   "cell_type": "code",
   "execution_count": 31,
   "outputs": [
    {
     "data": {
      "text/plain": "[{'idp': 1, 'namepr': 'promo', 'typepr': 'teepee', 'mountpr': 'mount 1'},\n {'idp': 2, 'namepr': 'Promotion 2', 'typepr': 'type 2', 'mountpr': 'mount 2'},\n {'idp': 3, 'namepr': 'Promotion 3', 'typepr': 'type 3', 'mountpr': 'mount 3'}]"
     },
     "execution_count": 31,
     "metadata": {},
     "output_type": "execute_result"
    }
   ],
   "source": [
    "response = requests.get(URL + 'promotion')\n",
    "response.json()"
   ],
   "metadata": {
    "collapsed": false
   }
  },
  {
   "cell_type": "code",
   "execution_count": 61,
   "outputs": [
    {
     "data": {
      "text/plain": "{'idp': 0, 'namepr': None, 'typepr': None, 'mountpr': None}"
     },
     "execution_count": 61,
     "metadata": {},
     "output_type": "execute_result"
    }
   ],
   "source": [
    "response = requests.post(URL + 'promotion', json=promotion_test_data[2])\n",
    "response.json()"
   ],
   "metadata": {
    "collapsed": false
   }
  },
  {
   "cell_type": "code",
   "execution_count": 66,
   "outputs": [
    {
     "data": {
      "text/plain": "{'idcv': 0, 'namecv': None, 'remise': 0}"
     },
     "execution_count": 66,
     "metadata": {},
     "output_type": "execute_result"
    }
   ],
   "source": [
    "response = requests.post(URL + 'convention', json=convention_test_data[2])\n",
    "response.json()"
   ],
   "metadata": {
    "collapsed": false
   }
  },
  {
   "cell_type": "code",
   "execution_count": 67,
   "outputs": [
    {
     "data": {
      "text/plain": "[{'idcv': 1, 'namecv': 'Convention 1', 'remise': 1},\n {'idcv': 2, 'namecv': 'Convocation', 'remise': 2},\n {'idcv': 5, 'namecv': 'Convention 5', 'remise': 5}]"
     },
     "execution_count": 67,
     "metadata": {},
     "output_type": "execute_result"
    }
   ],
   "source": [
    "response = requests.get(URL + 'convention')\n",
    "response.json()"
   ],
   "metadata": {
    "collapsed": false
   }
  },
  {
   "cell_type": "code",
   "execution_count": 103,
   "outputs": [
    {
     "name": "stdout",
     "output_type": "stream",
     "text": [
      "{'idl': 1, 'numberl': '1', 'street': 'street 1', 'date': '2010-01-01', 'idc': 1, 'serv': 1}\n",
      "{'idl': 0, 'numberl': None, 'street': None, 'date': None, 'idc': 0, 'serv': 0}\n",
      "{'idl': 2, 'numberl': '2', 'street': 'street 2', 'date': '2010-01-01', 'idc': 2, 'serv': 2}\n",
      "{'idl': 0, 'numberl': None, 'street': None, 'date': None, 'idc': 0, 'serv': 0}\n",
      "{'idl': 3, 'numberl': '3', 'street': 'street 3', 'date': '2010-01-01', 'idc': 3, 'serv': 3}\n",
      "{'idl': 0, 'numberl': None, 'street': None, 'date': None, 'idc': 0, 'serv': 0}\n"
     ]
    }
   ],
   "source": [
    "for line in line_test_data:\n",
    "    print(line)\n",
    "    response = requests.post(URL + 'line', json=line)\n",
    "    print(response.json())"
   ],
   "metadata": {
    "collapsed": false
   }
  },
  {
   "cell_type": "code",
   "execution_count": 104,
   "outputs": [
    {
     "data": {
      "text/plain": [
       "[{'idl': 1,\n",
       "  'numberl': '1',\n",
       "  'street': 'street 1',\n",
       "  'date': 'Fri, 01 Jan 2010 00:00:00 -0000',\n",
       "  'idc': 1,\n",
       "  'serv': 1},\n",
       " {'idl': 2,\n",
       "  'numberl': '2',\n",
       "  'street': 'street 2',\n",
       "  'date': 'Fri, 01 Jan 2010 00:00:00 -0000',\n",
       "  'idc': 2,\n",
       "  'serv': 2},\n",
       " {'idl': 3,\n",
       "  'numberl': '3',\n",
       "  'street': 'street 3',\n",
       "  'date': 'Fri, 01 Jan 2010 00:00:00 -0000',\n",
       "  'idc': 3,\n",
       "  'serv': 3}]"
      ]
     },
     "execution_count": 104,
     "metadata": {},
     "output_type": "execute_result"
    }
   ],
   "source": [
    "response = requests.get(URL + 'line')\n",
    "response.json()"
   ],
   "metadata": {
    "collapsed": false
   }
  },
  {
   "cell_type": "code",
   "execution_count": 113,
   "outputs": [
    {
     "name": "stdout",
     "output_type": "stream",
     "text": [
      "{'idt': 1, 'street1': 'street 1', 'street2': 'street 2', 'date': '2010-01-01', 'idl': 1}\n",
      "{'idt': 0, 'street1': None, 'street2': None, 'date': None, 'idl': 0}\n",
      "{'idt': 2, 'street1': 'street 2', 'street2': 'street 3', 'date': '2010-01-01', 'idl': 2}\n",
      "{'idt': 0, 'street1': None, 'street2': None, 'date': None, 'idl': 0}\n",
      "{'idt': 3, 'street1': 'street 3', 'street2': 'street 4', 'date': '2010-01-01', 'idl': 3}\n",
      "{'idt': 0, 'street1': None, 'street2': None, 'date': None, 'idl': 0}\n"
     ]
    }
   ],
   "source": [
    "for transform in transform_test_data:\n",
    "    print(transform)\n",
    "    response = requests.post(URL + 'transform', json=transform)\n",
    "    print(response.json())"
   ],
   "metadata": {
    "collapsed": false
   }
  },
  {
   "cell_type": "code",
   "execution_count": 114,
   "outputs": [
    {
     "data": {
      "text/plain": [
       "[{'idt': 1,\n",
       "  'street1': 'street 1',\n",
       "  'street2': 'street 2',\n",
       "  'date': 'Fri, 01 Jan 2010 00:00:00 -0000',\n",
       "  'idl': 0},\n",
       " {'idt': 2,\n",
       "  'street1': 'street 2',\n",
       "  'street2': 'street 3',\n",
       "  'date': 'Fri, 01 Jan 2010 00:00:00 -0000',\n",
       "  'idl': 0},\n",
       " {'idt': 3,\n",
       "  'street1': 'street 3',\n",
       "  'street2': 'street 4',\n",
       "  'date': 'Fri, 01 Jan 2010 00:00:00 -0000',\n",
       "  'idl': 0}]"
      ]
     },
     "execution_count": 114,
     "metadata": {},
     "output_type": "execute_result"
    }
   ],
   "source": [
    "response = requests.get(URL + 'transform')\n",
    "response.json()\n"
   ],
   "metadata": {
    "collapsed": false
   }
  },
  {
   "cell_type": "code",
   "execution_count": 116,
   "outputs": [
    {
     "name": "stdout",
     "output_type": "stream",
     "text": [
      "{'idcs': 1, 'date': '2010-01-01', 'idl': 1, 'ces': 1}\n",
      "{'idcs': 0, 'date': None, 'idl': 0, 'ces': 0}\n",
      "{'idcs': 2, 'date': '2010-01-01', 'idl': 1, 'ces': 2}\n",
      "{'idcs': 0, 'date': None, 'idl': 0, 'ces': 0}\n",
      "{'idcs': 3, 'date': '2010-01-01', 'idl': 2, 'ces': 3}\n",
      "{'idcs': 0, 'date': None, 'idl': 0, 'ces': 0}\n"
     ]
    },
    {
     "data": {
      "text/plain": [
       "[{'idcs': 1, 'date': 'Fri, 01 Jan 2010 00:00:00 -0000', 'idl': 1, 'ces': 1},\n",
       " {'idcs': 2, 'date': 'Fri, 01 Jan 2010 00:00:00 -0000', 'idl': 1, 'ces': 2},\n",
       " {'idcs': 3, 'date': 'Fri, 01 Jan 2010 00:00:00 -0000', 'idl': 2, 'ces': 3}]"
      ]
     },
     "execution_count": 116,
     "metadata": {},
     "output_type": "execute_result"
    }
   ],
   "source": [
    "for cession in cession_test_data:\n",
    "    print(cession)\n",
    "    response = requests.post(URL + 'cession', json=cession)\n",
    "    print(response.json())\n",
    "\n",
    "response = requests.get(URL + 'cession')\n",
    "response.json()"
   ],
   "metadata": {
    "collapsed": false
   }
  },
  {
   "cell_type": "code",
   "execution_count": 76,
   "outputs": [
    {
     "name": "stdout",
     "output_type": "stream",
     "text": [
      "{'id': 1, 'idc': 1, 'idl': 1, 'date': '2010-01-01', 'idp': 1, 'idcv': 1, 'idtr': 1, 'idcs': 1}\n",
      "{'id': 0, 'idc': 0, 'idl': 0, 'date': None, 'idp': 0, 'idcv': 0, 'idtr': 0, 'idcs': 0}\n",
      "{'id': 2, 'idc': 2, 'idl': 2, 'date': '2010-01-01', 'idp': 2, 'idcv': 2, 'idtr': 2, 'idcs': 2}\n",
      "{'id': 0, 'idc': 0, 'idl': 0, 'date': None, 'idp': 0, 'idcv': 0, 'idtr': 0, 'idcs': 0}\n",
      "{'id': 3, 'idc': 3, 'idl': 3, 'date': '2010-01-01', 'idp': 3, 'idcv': 3, 'idtr': 3, 'idcs': 3}\n",
      "{'id': 0, 'idc': 0, 'idl': 0, 'date': None, 'idp': 0, 'idcv': 0, 'idtr': 0, 'idcs': 0}\n",
      "{'id': 4, 'idc': 1, 'idl': 2, 'date': '2040-01-01', 'idp': 1, 'idcv': 2, 'idtr': 1, 'idcs': 2}\n",
      "{'id': 0, 'idc': 0, 'idl': 0, 'date': None, 'idp': 0, 'idcv': 0, 'idtr': 0, 'idcs': 0}\n"
     ]
    },
    {
     "data": {
      "text/plain": "[{'id': 1,\n  'idc': 1,\n  'idl': 1,\n  'date': 'Fri, 01 Jan 2010 00:00:00 -0000',\n  'idp': 1,\n  'idcv': 1,\n  'idtr': 1,\n  'idcs': 1},\n {'id': 2,\n  'idc': 2,\n  'idl': 2,\n  'date': 'Fri, 01 Jan 2010 00:00:00 -0000',\n  'idp': 2,\n  'idcv': 2,\n  'idtr': 2,\n  'idcs': 2},\n {'id': 3,\n  'idc': 3,\n  'idl': 3,\n  'date': 'Fri, 01 Jan 2010 00:00:00 -0000',\n  'idp': 3,\n  'idcv': 3,\n  'idtr': 3,\n  'idcs': 3},\n {'id': 4,\n  'idc': 1,\n  'idl': 2,\n  'date': 'Sun, 01 Jan 2040 00:00:00 -0000',\n  'idp': 1,\n  'idcv': 2,\n  'idtr': 1,\n  'idcs': 2}]"
     },
     "execution_count": 76,
     "metadata": {},
     "output_type": "execute_result"
    }
   ],
   "source": [
    "for history in history_test_data:\n",
    "    print(history)\n",
    "    response = requests.post(URL + 'history', json=history)\n",
    "    print(response.json())\n",
    "\n",
    "response = requests.get(URL + 'history')\n",
    "response.json()"
   ],
   "metadata": {
    "collapsed": false
   }
  },
  {
   "cell_type": "code",
   "execution_count": 75,
   "outputs": [
    {
     "data": {
      "text/plain": "[{'id': 4,\n  'date': 'Sun, 01 Jan 2040 00:00:00 -0000',\n  'namepr': 'promo',\n  'typepr': 'teepee',\n  'namecv': 'Convocation',\n  'numberl': '2',\n  'street': 'street fighter',\n  'serv': 2}]"
     },
     "execution_count": 75,
     "metadata": {},
     "output_type": "execute_result"
    }
   ],
   "source": [
    "response = requests.get(URL + 'entity/4')\n",
    "response.json()"
   ],
   "metadata": {
    "collapsed": false
   }
  },
  {
   "cell_type": "code",
   "execution_count": 74,
   "metadata": {},
   "outputs": [
    {
     "data": {
      "text/plain": "{'id': 0,\n 'date': None,\n 'namepr': None,\n 'typepr': None,\n 'namecv': None,\n 'numberl': None,\n 'street': None,\n 'serv': 0}"
     },
     "execution_count": 74,
     "metadata": {},
     "output_type": "execute_result"
    }
   ],
   "source": [
    "response = requests.put(URL + 'entity/4', json=legit_mock_data[0])\n",
    "response.json()"
   ]
  },
  {
   "cell_type": "code",
   "execution_count": 79,
   "metadata": {},
   "outputs": [
    {
     "ename": "NameError",
     "evalue": "name 'self' is not defined",
     "output_type": "error",
     "traceback": [
      "\u001B[1;31m---------------------------------------------------------------------------\u001B[0m",
      "\u001B[1;31mNameError\u001B[0m                                 Traceback (most recent call last)",
      "Cell \u001B[1;32mIn [79], line 7\u001B[0m\n\u001B[0;32m      4\u001B[0m         hist \u001B[38;5;241m=\u001B[39m requests\u001B[38;5;241m.\u001B[39mget(URL \u001B[38;5;241m+\u001B[39m \u001B[38;5;124m'\u001B[39m\u001B[38;5;124mhistory\u001B[39m\u001B[38;5;124m'\u001B[39m, json \u001B[38;5;241m=\u001B[39m {\u001B[38;5;124m'\u001B[39m\u001B[38;5;124mid\u001B[39m\u001B[38;5;124m'\u001B[39m: \u001B[38;5;241m1\u001B[39m})\n\u001B[0;32m      5\u001B[0m         \u001B[38;5;28mself\u001B[39m\u001B[38;5;241m.\u001B[39massertEqual(hist\u001B[38;5;241m.\u001B[39mid, \u001B[38;5;241m1\u001B[39m)\n\u001B[1;32m----> 7\u001B[0m TestEntities\u001B[38;5;241m.\u001B[39mtest_history(\u001B[38;5;28;43mself\u001B[39;49m)\n",
      "\u001B[1;31mNameError\u001B[0m: name 'self' is not defined"
     ]
    }
   ],
   "source": [
    "\n",
    "\n",
    "\n"
   ]
  }
 ],
 "metadata": {
  "kernelspec": {
   "display_name": "Python 3.9.7 ('base')",
   "language": "python",
   "name": "python3"
  },
  "language_info": {
   "codemirror_mode": {
    "name": "ipython",
    "version": 3
   },
   "file_extension": ".py",
   "mimetype": "text/x-python",
   "name": "python",
   "nbconvert_exporter": "python",
   "pygments_lexer": "ipython3",
   "version": "3.9.7"
  },
  "orig_nbformat": 4,
  "vscode": {
   "interpreter": {
    "hash": "ad2bdc8ecc057115af97d19610ffacc2b4e99fae6737bb82f5d7fb13d2f2c186"
   }
  }
 },
 "nbformat": 4,
 "nbformat_minor": 2
}
